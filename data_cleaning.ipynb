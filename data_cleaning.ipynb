{
 "cells": [
  {
   "cell_type": "markdown",
   "metadata": {},
   "source": [
    "# Quantium Analytics Customer analysis."
   ]
  },
  {
   "cell_type": "markdown",
   "metadata": {},
   "source": [
    "#### This Project is aimed at conducting an analysis on behalf of Quantium analytics of the Transactional data and customer behavior data to provide recomendation to the Category Manager for Chips for comercial data driven decision making.\n",
    "#### The objective of this analysis is\n",
    "##### * To better understand the kind of customers who purchase Chips\n",
    "##### * To understand their purchasing behavior so as to provide recomendation on who should be targeted within the chips category.\n"
   ]
  },
  {
   "cell_type": "code",
   "execution_count": null,
   "metadata": {},
   "outputs": [],
   "source": []
  },
  {
   "cell_type": "code",
   "execution_count": null,
   "metadata": {},
   "outputs": [],
   "source": []
  }
 ],
 "metadata": {
  "language_info": {
   "name": "python"
  },
  "orig_nbformat": 4
 },
 "nbformat": 4,
 "nbformat_minor": 2
}
